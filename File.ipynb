{
 "cells": [
  {
   "cell_type": "code",
   "execution_count": 23,
   "metadata": {},
   "outputs": [],
   "source": [
    "import numpy as np\n",
    "import pandas as pd\n",
    "import os\n",
    "import tensorflow as tf\n",
    "import matplotlib.pyplot as plt\n",
    "from tensorflow.keras.preprocessing.image import ImageDataGenerator\n",
    "from tensorflow.keras.applications import EfficientNetB0\n",
    "from tensorflow.keras.layers import Dense, Dropout, GlobalAveragePooling2D\n",
    "from tensorflow.keras.models import Model\n",
    "import shap"
   ]
  },
  {
   "cell_type": "code",
   "execution_count": 24,
   "metadata": {},
   "outputs": [
    {
     "name": "stderr",
     "output_type": "stream",
     "text": [
      "<>:1: SyntaxWarning: invalid escape sequence '\\A'\n",
      "<>:1: SyntaxWarning: invalid escape sequence '\\A'\n",
      "C:\\Users\\DELL\\AppData\\Local\\Temp\\ipykernel_8416\\1830423623.py:1: SyntaxWarning: invalid escape sequence '\\A'\n",
      "  data_dir = \"A:\\AI_PROJECT\\Stress_detection_Project\\stress_non_stress_image\"\n"
     ]
    }
   ],
   "source": [
    "data_dir = \"A:\\AI_PROJECT\\Stress_detection_Project\\stress_non_stress_image\""
   ]
  },
  {
   "cell_type": "code",
   "execution_count": 28,
   "metadata": {},
   "outputs": [],
   "source": [
    "img_size = (224, 224)\n",
    "batch_size = 32\n",
    "\n",
    "data_gen = ImageDataGenerator(\n",
    "    rescale=1./255,\n",
    "    validation_split=0.2,\n",
    "    rotation_range=20,\n",
    "    width_shift_range=0.2,\n",
    "    height_shift_range=0.2,\n",
    "    shear_range=0.2,\n",
    "    zoom_range=0.2,\n",
    "    horizontal_flip=True,\n",
    "    fill_mode='nearest'\n",
    ")"
   ]
  },
  {
   "cell_type": "code",
   "execution_count": 30,
   "metadata": {},
   "outputs": [
    {
     "name": "stdout",
     "output_type": "stream",
     "text": [
      "Found 5324 images belonging to 2 classes.\n",
      "Found 1331 images belonging to 2 classes.\n"
     ]
    }
   ],
   "source": [
    "train_data = data_gen.flow_from_directory(\n",
    "    data_dir,\n",
    "    target_size = img_size,\n",
    "    class_mode = 'binary',\n",
    "    subset = \"training\"\n",
    ")\n",
    "\n",
    "val_data = data_gen.flow_from_directory(\n",
    "    data_dir,\n",
    "    target_size = img_size,\n",
    "    class_mode = 'binary',\n",
    "    subset = \"validation\"\n",
    ")"
   ]
  },
  {
   "cell_type": "code",
   "execution_count": 31,
   "metadata": {},
   "outputs": [
    {
     "name": "stdout",
     "output_type": "stream",
     "text": [
      "Downloading data from https://storage.googleapis.com/keras-applications/efficientnetb0_notop.h5\n",
      "\u001b[1m16705208/16705208\u001b[0m \u001b[32m━━━━━━━━━━━━━━━━━━━━\u001b[0m\u001b[37m\u001b[0m \u001b[1m5s\u001b[0m 0us/step\n"
     ]
    }
   ],
   "source": [
    "base_model = EfficientNetB0(weights=\"imagenet\",include_top=False,input_shape=(224,224,3))\n",
    "base_model.trainable=False\n"
   ]
  },
  {
   "cell_type": "code",
   "execution_count": 33,
   "metadata": {},
   "outputs": [],
   "source": [
    "## Build Custom Classifier\n",
    "\n",
    "x = GlobalAveragePooling2D()(base_model.output)\n",
    "x = Dropout(0.4)(x)\n",
    "\n",
    "output = Dense(1,activation=\"sigmoid\")(x)\n",
    "model = Model(inputs = base_model.input,outputs=output)\n",
    "model.compile(optimizer='adam',loss=\"binary_crossentropy\",metrics=['accuracy'])\n"
   ]
  },
  {
   "cell_type": "code",
   "execution_count": 34,
   "metadata": {},
   "outputs": [
    {
     "name": "stderr",
     "output_type": "stream",
     "text": [
      "a:\\AI_PROJECT\\venv\\Lib\\site-packages\\keras\\src\\trainers\\data_adapters\\py_dataset_adapter.py:121: UserWarning: Your `PyDataset` class should call `super().__init__(**kwargs)` in its constructor. `**kwargs` can include `workers`, `use_multiprocessing`, `max_queue_size`. Do not pass these arguments to `fit()`, as they will be ignored.\n",
      "  self._warn_if_super_not_called()\n"
     ]
    },
    {
     "name": "stdout",
     "output_type": "stream",
     "text": [
      "Epoch 1/10\n",
      "\u001b[1m167/167\u001b[0m \u001b[32m━━━━━━━━━━━━━━━━━━━━\u001b[0m\u001b[37m\u001b[0m \u001b[1m637s\u001b[0m 4s/step - accuracy: 0.9407 - loss: 0.2526 - val_accuracy: 0.9467 - val_loss: 0.2088\n",
      "Epoch 2/10\n",
      "\u001b[1m167/167\u001b[0m \u001b[32m━━━━━━━━━━━━━━━━━━━━\u001b[0m\u001b[37m\u001b[0m \u001b[1m316s\u001b[0m 2s/step - accuracy: 0.9441 - loss: 0.2206 - val_accuracy: 0.9467 - val_loss: 0.2088\n",
      "Epoch 3/10\n",
      "\u001b[1m167/167\u001b[0m \u001b[32m━━━━━━━━━━━━━━━━━━━━\u001b[0m\u001b[37m\u001b[0m \u001b[1m303s\u001b[0m 2s/step - accuracy: 0.9461 - loss: 0.2135 - val_accuracy: 0.9467 - val_loss: 0.2089\n",
      "Epoch 4/10\n",
      "\u001b[1m167/167\u001b[0m \u001b[32m━━━━━━━━━━━━━━━━━━━━\u001b[0m\u001b[37m\u001b[0m \u001b[1m320s\u001b[0m 2s/step - accuracy: 0.9476 - loss: 0.2082 - val_accuracy: 0.9467 - val_loss: 0.2084\n",
      "Epoch 5/10\n",
      "\u001b[1m167/167\u001b[0m \u001b[32m━━━━━━━━━━━━━━━━━━━━\u001b[0m\u001b[37m\u001b[0m \u001b[1m395s\u001b[0m 2s/step - accuracy: 0.9483 - loss: 0.2046 - val_accuracy: 0.9467 - val_loss: 0.2111\n",
      "Epoch 6/10\n",
      "\u001b[1m167/167\u001b[0m \u001b[32m━━━━━━━━━━━━━━━━━━━━\u001b[0m\u001b[37m\u001b[0m \u001b[1m373s\u001b[0m 2s/step - accuracy: 0.9455 - loss: 0.2140 - val_accuracy: 0.9467 - val_loss: 0.2083\n",
      "Epoch 7/10\n",
      "\u001b[1m167/167\u001b[0m \u001b[32m━━━━━━━━━━━━━━━━━━━━\u001b[0m\u001b[37m\u001b[0m \u001b[1m494s\u001b[0m 3s/step - accuracy: 0.9447 - loss: 0.2176 - val_accuracy: 0.9467 - val_loss: 0.2123\n",
      "Epoch 8/10\n",
      "\u001b[1m167/167\u001b[0m \u001b[32m━━━━━━━━━━━━━━━━━━━━\u001b[0m\u001b[37m\u001b[0m \u001b[1m354s\u001b[0m 2s/step - accuracy: 0.9500 - loss: 0.2009 - val_accuracy: 0.9467 - val_loss: 0.2154\n",
      "Epoch 9/10\n",
      "\u001b[1m167/167\u001b[0m \u001b[32m━━━━━━━━━━━━━━━━━━━━\u001b[0m\u001b[37m\u001b[0m \u001b[1m326s\u001b[0m 2s/step - accuracy: 0.9462 - loss: 0.2119 - val_accuracy: 0.9467 - val_loss: 0.2092\n",
      "Epoch 10/10\n",
      "\u001b[1m167/167\u001b[0m \u001b[32m━━━━━━━━━━━━━━━━━━━━\u001b[0m\u001b[37m\u001b[0m \u001b[1m395s\u001b[0m 2s/step - accuracy: 0.9447 - loss: 0.2162 - val_accuracy: 0.9467 - val_loss: 0.2115\n"
     ]
    }
   ],
   "source": [
    "epochs  = 10\n",
    "history = model.fit(train_data,validation_data=val_data,epochs=epochs)"
   ]
  },
  {
   "cell_type": "code",
   "execution_count": null,
   "metadata": {},
   "outputs": [],
   "source": []
  }
 ],
 "metadata": {
  "kernelspec": {
   "display_name": "Python 3",
   "language": "python",
   "name": "python3"
  },
  "language_info": {
   "codemirror_mode": {
    "name": "ipython",
    "version": 3
   },
   "file_extension": ".py",
   "mimetype": "text/x-python",
   "name": "python",
   "nbconvert_exporter": "python",
   "pygments_lexer": "ipython3",
   "version": "3.12.0"
  }
 },
 "nbformat": 4,
 "nbformat_minor": 2
}
